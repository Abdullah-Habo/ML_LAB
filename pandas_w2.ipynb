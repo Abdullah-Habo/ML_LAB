{
 "cells": [
  {
   "cell_type": "code",
   "execution_count": 29,
   "id": "52f37ae6-c9ff-4127-b964-c22dc62154fa",
   "metadata": {},
   "outputs": [],
   "source": [
    "import numpy as np \n",
    "import pandas as pd"
   ]
  },
  {
   "cell_type": "code",
   "execution_count": 30,
   "id": "2c9f15d0-75ac-4fb4-b97e-4f42dd32fc66",
   "metadata": {},
   "outputs": [
    {
     "data": {
      "text/plain": [
       "(2, 3)"
      ]
     },
     "execution_count": 30,
     "metadata": {},
     "output_type": "execute_result"
    }
   ],
   "source": [
    "t = (1,2,3,4)\n",
    "t[1:3]"
   ]
  },
  {
   "cell_type": "code",
   "execution_count": 33,
   "id": "2eacba3c-c670-4577-b853-93312643d73b",
   "metadata": {},
   "outputs": [
    {
     "name": "stdout",
     "output_type": "stream",
     "text": [
      "       name   age   note\n",
      "0      jhon  20.0  125.0\n",
      "1      sara  18.0  665.0\n",
      "2  abdullah   NaN   20.0\n",
      "3     ahmet  50.0  988.0\n",
      "4     kubra  25.0  409.0\n",
      "5     saleh  70.0    NaN\n"
     ]
    }
   ],
   "source": [
    "dictionary = {\"name\":[\"jhon\",\"sara\",\"abdullah\",\"ahmet\",\"kubra\",\"saleh\"],\n",
    "             \"age\":[20,18,None,50,25,70],\n",
    "             \"note\":[125,665,20,988,409,None]}\n",
    "dataframe1 = pd.DataFrame(dictionary) \n",
    "print(dataframe1)"
   ]
  },
  {
   "cell_type": "code",
   "execution_count": 34,
   "id": "22ade3cd-5624-4549-aa98-930ff534f97c",
   "metadata": {},
   "outputs": [
    {
     "name": "stdout",
     "output_type": "stream",
     "text": [
      "   Sex   \"Weight (lbs   Sep)\"   \"Weight (lbs.1   Apr)\"   \"BMI (Sep)\"  \\\n",
      "0    M            159     130            22.02   18.14           NaN   \n",
      "1    M            214     190            19.70   17.44           NaN   \n",
      "2    M            163     152            24.09   22.43           NaN   \n",
      "3    M            205     194            26.97   25.57           NaN   \n",
      "4    F            150     141            21.51   20.10           NaN   \n",
      "..  ..            ...     ...              ...     ...           ...   \n",
      "62   M            143     156            22.51   24.45           NaN   \n",
      "63   M            165     181            23.69   25.80           NaN   \n",
      "64   F             93     108            15.08   17.74           NaN   \n",
      "65   M            163     181            22.64   25.33           NaN   \n",
      "66   M            207     231            36.57   40.86           NaN   \n",
      "\n",
      "     \"BMI (Apr)\"  \n",
      "0            NaN  \n",
      "1            NaN  \n",
      "2            NaN  \n",
      "3            NaN  \n",
      "4            NaN  \n",
      "..           ...  \n",
      "62           NaN  \n",
      "63           NaN  \n",
      "64           NaN  \n",
      "65           NaN  \n",
      "66           NaN  \n",
      "\n",
      "[67 rows x 7 columns]\n"
     ]
    }
   ],
   "source": [
    "df = pd.read_csv(r\"C:\\Users\\abdul\\Downloads\\freshman_lbs.csv\")\n",
    "print(df)"
   ]
  },
  {
   "cell_type": "code",
   "execution_count": 35,
   "id": "6f10d854-2ead-4002-8904-129ab6decb15",
   "metadata": {},
   "outputs": [
    {
     "name": "stdout",
     "output_type": "stream",
     "text": [
      "       name   age   note\n",
      "0      jhon  20.0  125.0\n",
      "1      sara  18.0  665.0\n",
      "2  abdullah   NaN   20.0\n",
      "3     ahmet  50.0  988.0\n",
      "4     kubra  25.0  409.0\n"
     ]
    }
   ],
   "source": [
    "head = dataframe1.head() \n",
    "print(head)"
   ]
  },
  {
   "cell_type": "code",
   "execution_count": 36,
   "id": "0758906b-3a2a-4096-acad-7875a16fa3c0",
   "metadata": {},
   "outputs": [
    {
     "name": "stdout",
     "output_type": "stream",
     "text": [
      "       name   age   note\n",
      "1      sara  18.0  665.0\n",
      "2  abdullah   NaN   20.0\n",
      "3     ahmet  50.0  988.0\n",
      "4     kubra  25.0  409.0\n",
      "5     saleh  70.0    NaN\n"
     ]
    }
   ],
   "source": [
    "tail = dataframe1.tail()\n",
    "print(tail)"
   ]
  },
  {
   "cell_type": "code",
   "execution_count": 37,
   "id": "ccee19cc-5ee1-4b8a-a9db-edda6c5da4a4",
   "metadata": {},
   "outputs": [
    {
     "name": "stdout",
     "output_type": "stream",
     "text": [
      "Index(['name', 'age', 'note'], dtype='object')\n"
     ]
    }
   ],
   "source": [
    "print(dataframe1.columns)"
   ]
  },
  {
   "cell_type": "code",
   "execution_count": 38,
   "id": "f6004693-2608-422e-9241-27f63bfc211e",
   "metadata": {},
   "outputs": [
    {
     "name": "stdout",
     "output_type": "stream",
     "text": [
      "<class 'pandas.core.frame.DataFrame'>\n",
      "RangeIndex: 6 entries, 0 to 5\n",
      "Data columns (total 3 columns):\n",
      " #   Column  Non-Null Count  Dtype  \n",
      "---  ------  --------------  -----  \n",
      " 0   name    6 non-null      object \n",
      " 1   age     5 non-null      float64\n",
      " 2   note    5 non-null      float64\n",
      "dtypes: float64(2), object(1)\n",
      "memory usage: 276.0+ bytes\n",
      "None\n"
     ]
    }
   ],
   "source": [
    "print(dataframe1.info())"
   ]
  },
  {
   "cell_type": "code",
   "execution_count": 39,
   "id": "dcc2038e-f711-4a03-b375-683887216eff",
   "metadata": {},
   "outputs": [
    {
     "name": "stdout",
     "output_type": "stream",
     "text": [
      "name     object\n",
      "age     float64\n",
      "note    float64\n",
      "dtype: object\n"
     ]
    }
   ],
   "source": [
    "print(dataframe1.dtypes)"
   ]
  },
  {
   "cell_type": "code",
   "execution_count": 40,
   "id": "0144fff6-ccd1-4d6a-8f2b-5e925f9b7cdc",
   "metadata": {},
   "outputs": [
    {
     "name": "stdout",
     "output_type": "stream",
     "text": [
      "             age        note\n",
      "count   5.000000    5.000000\n",
      "mean   36.600000  441.400000\n",
      "std    22.645088  396.076129\n",
      "min    18.000000   20.000000\n",
      "25%    20.000000  125.000000\n",
      "50%    25.000000  409.000000\n",
      "75%    50.000000  665.000000\n",
      "max    70.000000  988.000000\n"
     ]
    }
   ],
   "source": [
    "print(dataframe1.describe())"
   ]
  },
  {
   "cell_type": "code",
   "execution_count": 44,
   "id": "87d7cb64-c55a-42de-8cdc-1b6749d907d6",
   "metadata": {},
   "outputs": [
    {
     "name": "stdout",
     "output_type": "stream",
     "text": [
      "0        jhon\n",
      "1        sara\n",
      "2    abdullah\n",
      "3       ahmet\n",
      "4       kubra\n",
      "5       saleh\n",
      "Name: name, dtype: object\n",
      "0    20.0\n",
      "1    18.0\n",
      "2     NaN\n",
      "3    50.0\n",
      "4    25.0\n",
      "5    70.0\n",
      "Name: age, dtype: float64\n",
      "0    20.0\n",
      "1    18.0\n",
      "2     NaN\n",
      "3    50.0\n",
      "Name: age, dtype: float64\n",
      "       name   age   note\n",
      "0      jhon  20.0  125.0\n",
      "1      sara  18.0  665.0\n",
      "2  abdullah   NaN   20.0\n",
      "3     ahmet  50.0  988.0\n",
      "       name   age   note  new_future  new_feature\n",
      "5     saleh  70.0    NaN           6            6\n",
      "4     kubra  25.0  409.0           5            5\n",
      "3     ahmet  50.0  988.0           4            4\n",
      "2  abdullah   NaN   20.0           3            3\n",
      "1      sara  18.0  665.0           2            2\n",
      "0      jhon  20.0  125.0           1            1\n"
     ]
    }
   ],
   "source": [
    "print(dataframe1[\"name\"]) \n",
    "print(dataframe1.loc[:, \"age\"])            \n",
    "dataframe1[\"new_feature\"] = [1,2,3,4,5,6] \n",
    "print(dataframe1.loc[:3,\"age\"])\n",
    "print(dataframe1.loc[:3, \"name\":\"note\"])\n",
    "print(dataframe1.loc[::-1])"
   ]
  },
  {
   "cell_type": "code",
   "execution_count": 45,
   "id": "9076e405-3a33-4fc6-a5b0-fdee8b8417f6",
   "metadata": {},
   "outputs": [
    {
     "name": "stdout",
     "output_type": "stream",
     "text": [
      "0    1\n",
      "1    2\n",
      "2    3\n",
      "3    4\n",
      "4    5\n",
      "5    6\n",
      "Name: new_feature, dtype: int64\n"
     ]
    }
   ],
   "source": [
    "print(dataframe1.loc[:, \"new_feature\"]) "
   ]
  },
  {
   "cell_type": "code",
   "execution_count": 46,
   "id": "ce4e475c-aadb-4067-bc32-3af30c71a075",
   "metadata": {},
   "outputs": [
    {
     "name": "stdout",
     "output_type": "stream",
     "text": [
      "       name   note\n",
      "0      jhon  125.0\n",
      "1      sara  665.0\n",
      "2  abdullah   20.0\n",
      "3     ahmet  988.0\n"
     ]
    }
   ],
   "source": [
    "print(dataframe1.loc[:3, [\"name\",\"note\"]])"
   ]
  },
  {
   "cell_type": "code",
   "execution_count": 47,
   "id": "c8e0d8d9-27ea-4fae-b3b1-cd5d4ffe24af",
   "metadata": {},
   "outputs": [
    {
     "name": "stdout",
     "output_type": "stream",
     "text": [
      "       name   age\n",
      "0      jhon  20.0\n",
      "1      sara  18.0\n",
      "2  abdullah   NaN\n",
      "3     ahmet  50.0\n",
      "4     kubra  25.0\n",
      "5     saleh  70.0\n"
     ]
    }
   ],
   "source": [
    "print(dataframe1.loc[:,:\"age\"])"
   ]
  },
  {
   "cell_type": "code",
   "execution_count": 48,
   "id": "51eaddf9-fa32-416c-9cec-0ec139cfd7aa",
   "metadata": {},
   "outputs": [
    {
     "name": "stdout",
     "output_type": "stream",
     "text": [
      "    note\n",
      "0  125.0\n",
      "1  665.0\n",
      "2   20.0\n",
      "3  988.0\n",
      "4  409.0\n",
      "5    NaN\n"
     ]
    }
   ],
   "source": [
    "print(dataframe1.iloc[:,[2]])"
   ]
  },
  {
   "cell_type": "code",
   "execution_count": 49,
   "id": "6aa177b2-2c1b-4e80-96ca-39b668f831eb",
   "metadata": {},
   "outputs": [
    {
     "name": "stdout",
     "output_type": "stream",
     "text": [
      "    age   bool\n",
      "0  20.0   True\n",
      "1  18.0   True\n",
      "2   NaN  False\n",
      "3  50.0   True\n",
      "4  25.0   True\n",
      "5  70.0   True\n"
     ]
    }
   ],
   "source": [
    "filtre1 = dataframe1.age>10\n",
    "dataframe1[\"bool\"]= filtre1\n",
    "print(dataframe1.loc[:,[\"age\",\"bool\"]])"
   ]
  },
  {
   "cell_type": "code",
   "execution_count": 50,
   "id": "b8a3e3f6-9176-4f55-8a59-a5f5af3c0c17",
   "metadata": {},
   "outputs": [
    {
     "data": {
      "text/plain": [
       "pandas.core.series.Series"
      ]
     },
     "execution_count": 50,
     "metadata": {},
     "output_type": "execute_result"
    }
   ],
   "source": [
    "type(filtre1)"
   ]
  },
  {
   "cell_type": "code",
   "execution_count": 51,
   "id": "d3206019-6b9d-4197-95cb-a9dd58838607",
   "metadata": {},
   "outputs": [
    {
     "name": "stdout",
     "output_type": "stream",
     "text": [
      "    name   age   note  new_future  new_feature  bool\n",
      "0   jhon  20.0  125.0           1            1  True\n",
      "1   sara  18.0  665.0           2            2  True\n",
      "3  ahmet  50.0  988.0           4            4  True\n",
      "4  kubra  25.0  409.0           5            5  True\n",
      "5  saleh  70.0    NaN           6            6  True\n"
     ]
    }
   ],
   "source": [
    "filtrelenmis_data= dataframe1[filtre1] \n",
    "print(filtrelenmis_data)\n"
   ]
  },
  {
   "cell_type": "code",
   "execution_count": 52,
   "id": "2d5cbda3-d640-4ff7-85ea-7a66069f03bf",
   "metadata": {},
   "outputs": [
    {
     "name": "stdout",
     "output_type": "stream",
     "text": [
      "    name   age   note  new_future  new_feature  bool\n",
      "0   jhon  20.0  125.0           1            1  True\n",
      "1   sara  18.0  665.0           2            2  True\n",
      "3  ahmet  50.0  988.0           4            4  True\n",
      "4  kubra  25.0  409.0           5            5  True\n"
     ]
    }
   ],
   "source": [
    "filtre2 = dataframe1.note>100\n",
    "filtrelenmis_data2 = dataframe1[filtre2&filtre1] \n",
    "print(filtrelenmis_data2)\n"
   ]
  },
  {
   "cell_type": "code",
   "execution_count": 53,
   "id": "20a627c5-60c8-4e02-bf6e-5b87e95d35f3",
   "metadata": {},
   "outputs": [
    {
     "data": {
      "text/html": [
       "<div>\n",
       "<style scoped>\n",
       "    .dataframe tbody tr th:only-of-type {\n",
       "        vertical-align: middle;\n",
       "    }\n",
       "\n",
       "    .dataframe tbody tr th {\n",
       "        vertical-align: top;\n",
       "    }\n",
       "\n",
       "    .dataframe thead th {\n",
       "        text-align: right;\n",
       "    }\n",
       "</style>\n",
       "<table border=\"1\" class=\"dataframe\">\n",
       "  <thead>\n",
       "    <tr style=\"text-align: right;\">\n",
       "      <th></th>\n",
       "      <th>name</th>\n",
       "      <th>age</th>\n",
       "      <th>note</th>\n",
       "      <th>new_future</th>\n",
       "      <th>new_feature</th>\n",
       "      <th>bool</th>\n",
       "    </tr>\n",
       "  </thead>\n",
       "  <tbody>\n",
       "    <tr>\n",
       "      <th>3</th>\n",
       "      <td>ahmet</td>\n",
       "      <td>50.0</td>\n",
       "      <td>988.0</td>\n",
       "      <td>4</td>\n",
       "      <td>4</td>\n",
       "      <td>True</td>\n",
       "    </tr>\n",
       "    <tr>\n",
       "      <th>4</th>\n",
       "      <td>kubra</td>\n",
       "      <td>25.0</td>\n",
       "      <td>409.0</td>\n",
       "      <td>5</td>\n",
       "      <td>5</td>\n",
       "      <td>True</td>\n",
       "    </tr>\n",
       "    <tr>\n",
       "      <th>5</th>\n",
       "      <td>saleh</td>\n",
       "      <td>70.0</td>\n",
       "      <td>NaN</td>\n",
       "      <td>6</td>\n",
       "      <td>6</td>\n",
       "      <td>True</td>\n",
       "    </tr>\n",
       "  </tbody>\n",
       "</table>\n",
       "</div>"
      ],
      "text/plain": [
       "    name   age   note  new_future  new_feature  bool\n",
       "3  ahmet  50.0  988.0           4            4  True\n",
       "4  kubra  25.0  409.0           5            5  True\n",
       "5  saleh  70.0    NaN           6            6  True"
      ]
     },
     "execution_count": 53,
     "metadata": {},
     "output_type": "execute_result"
    }
   ],
   "source": [
    "dataframe1[dataframe1.age>20]"
   ]
  },
  {
   "cell_type": "code",
   "execution_count": 54,
   "id": "a8ba52b2-865e-4af9-bda9-fa85baed94dc",
   "metadata": {},
   "outputs": [
    {
     "name": "stdout",
     "output_type": "stream",
     "text": [
      "441.4\n",
      "441.4\n"
     ]
    }
   ],
   "source": [
    "mean1 = dataframe1.note.mean()\n",
    "print(mean1)\n",
    "mean_np= np.mean(dataframe1.note) \n",
    "print(mean_np)"
   ]
  },
  {
   "cell_type": "code",
   "execution_count": 55,
   "id": "bbcaa261-3142-4716-87a4-96b725f0f627",
   "metadata": {},
   "outputs": [
    {
     "data": {
      "text/html": [
       "<div>\n",
       "<style scoped>\n",
       "    .dataframe tbody tr th:only-of-type {\n",
       "        vertical-align: middle;\n",
       "    }\n",
       "\n",
       "    .dataframe tbody tr th {\n",
       "        vertical-align: top;\n",
       "    }\n",
       "\n",
       "    .dataframe thead th {\n",
       "        text-align: right;\n",
       "    }\n",
       "</style>\n",
       "<table border=\"1\" class=\"dataframe\">\n",
       "  <thead>\n",
       "    <tr style=\"text-align: right;\">\n",
       "      <th></th>\n",
       "      <th>name</th>\n",
       "      <th>age</th>\n",
       "      <th>note</th>\n",
       "      <th>new_future</th>\n",
       "      <th>new_feature</th>\n",
       "      <th>bool</th>\n",
       "    </tr>\n",
       "  </thead>\n",
       "  <tbody>\n",
       "    <tr>\n",
       "      <th>0</th>\n",
       "      <td>jhon</td>\n",
       "      <td>20.0</td>\n",
       "      <td>125.0</td>\n",
       "      <td>1</td>\n",
       "      <td>1</td>\n",
       "      <td>True</td>\n",
       "    </tr>\n",
       "    <tr>\n",
       "      <th>1</th>\n",
       "      <td>sara</td>\n",
       "      <td>18.0</td>\n",
       "      <td>665.0</td>\n",
       "      <td>2</td>\n",
       "      <td>2</td>\n",
       "      <td>True</td>\n",
       "    </tr>\n",
       "    <tr>\n",
       "      <th>3</th>\n",
       "      <td>ahmet</td>\n",
       "      <td>50.0</td>\n",
       "      <td>988.0</td>\n",
       "      <td>4</td>\n",
       "      <td>4</td>\n",
       "      <td>True</td>\n",
       "    </tr>\n",
       "    <tr>\n",
       "      <th>4</th>\n",
       "      <td>kubra</td>\n",
       "      <td>25.0</td>\n",
       "      <td>409.0</td>\n",
       "      <td>5</td>\n",
       "      <td>5</td>\n",
       "      <td>True</td>\n",
       "    </tr>\n",
       "  </tbody>\n",
       "</table>\n",
       "</div>"
      ],
      "text/plain": [
       "    name   age   note  new_future  new_feature  bool\n",
       "0   jhon  20.0  125.0           1            1  True\n",
       "1   sara  18.0  665.0           2            2  True\n",
       "3  ahmet  50.0  988.0           4            4  True\n",
       "4  kubra  25.0  409.0           5            5  True"
      ]
     },
     "execution_count": 55,
     "metadata": {},
     "output_type": "execute_result"
    }
   ],
   "source": [
    "dataframe1.dropna(inplace=True) \n",
    "dataframe1"
   ]
  },
  {
   "cell_type": "code",
   "execution_count": 56,
   "id": "58bdb5ea-5781-4873-a0b0-49760d517162",
   "metadata": {},
   "outputs": [
    {
     "name": "stdout",
     "output_type": "stream",
     "text": [
      "546.75\n"
     ]
    },
    {
     "data": {
      "text/html": [
       "<div>\n",
       "<style scoped>\n",
       "    .dataframe tbody tr th:only-of-type {\n",
       "        vertical-align: middle;\n",
       "    }\n",
       "\n",
       "    .dataframe tbody tr th {\n",
       "        vertical-align: top;\n",
       "    }\n",
       "\n",
       "    .dataframe thead th {\n",
       "        text-align: right;\n",
       "    }\n",
       "</style>\n",
       "<table border=\"1\" class=\"dataframe\">\n",
       "  <thead>\n",
       "    <tr style=\"text-align: right;\">\n",
       "      <th></th>\n",
       "      <th>name</th>\n",
       "      <th>age</th>\n",
       "      <th>note</th>\n",
       "      <th>new_future</th>\n",
       "      <th>new_feature</th>\n",
       "      <th>bool</th>\n",
       "      <th>mean</th>\n",
       "    </tr>\n",
       "  </thead>\n",
       "  <tbody>\n",
       "    <tr>\n",
       "      <th>0</th>\n",
       "      <td>jhon</td>\n",
       "      <td>20.0</td>\n",
       "      <td>125.0</td>\n",
       "      <td>1</td>\n",
       "      <td>1</td>\n",
       "      <td>True</td>\n",
       "      <td>bad</td>\n",
       "    </tr>\n",
       "    <tr>\n",
       "      <th>1</th>\n",
       "      <td>sara</td>\n",
       "      <td>18.0</td>\n",
       "      <td>665.0</td>\n",
       "      <td>2</td>\n",
       "      <td>2</td>\n",
       "      <td>True</td>\n",
       "      <td>good</td>\n",
       "    </tr>\n",
       "    <tr>\n",
       "      <th>3</th>\n",
       "      <td>ahmet</td>\n",
       "      <td>50.0</td>\n",
       "      <td>988.0</td>\n",
       "      <td>4</td>\n",
       "      <td>4</td>\n",
       "      <td>True</td>\n",
       "      <td>good</td>\n",
       "    </tr>\n",
       "    <tr>\n",
       "      <th>4</th>\n",
       "      <td>kubra</td>\n",
       "      <td>25.0</td>\n",
       "      <td>409.0</td>\n",
       "      <td>5</td>\n",
       "      <td>5</td>\n",
       "      <td>True</td>\n",
       "      <td>bad</td>\n",
       "    </tr>\n",
       "  </tbody>\n",
       "</table>\n",
       "</div>"
      ],
      "text/plain": [
       "    name   age   note  new_future  new_feature  bool  mean\n",
       "0   jhon  20.0  125.0           1            1  True   bad\n",
       "1   sara  18.0  665.0           2            2  True  good\n",
       "3  ahmet  50.0  988.0           4            4  True  good\n",
       "4  kubra  25.0  409.0           5            5  True   bad"
      ]
     },
     "execution_count": 56,
     "metadata": {},
     "output_type": "execute_result"
    }
   ],
   "source": [
    "print(dataframe1.note.mean())\n",
    "dataframe1[\"mean\"]= [\"bad\" if dataframe1.note.mean()>each else \"good\" for each in dataframe1.note]\n",
    "dataframe1"
   ]
  },
  {
   "cell_type": "code",
   "execution_count": 57,
   "id": "4815cf26-6d9e-4380-a1a1-702dbde11ed3",
   "metadata": {},
   "outputs": [
    {
     "data": {
      "text/plain": [
       "Index(['NAME', 'AGE', 'NOTE', 'NEW_FUTURE', 'NEW_FEATURE', 'BOOL', 'MEAN'], dtype='object')"
      ]
     },
     "execution_count": 57,
     "metadata": {},
     "output_type": "execute_result"
    }
   ],
   "source": [
    "dataframe1.columns = [each.upper() for each in dataframe1.columns] \n",
    "\n",
    "dataframe1.columns"
   ]
  },
  {
   "cell_type": "code",
   "execution_count": 58,
   "id": "9ce39c89-c534-4745-85cd-3503620fccc0",
   "metadata": {},
   "outputs": [
    {
     "data": {
      "text/html": [
       "<div>\n",
       "<style scoped>\n",
       "    .dataframe tbody tr th:only-of-type {\n",
       "        vertical-align: middle;\n",
       "    }\n",
       "\n",
       "    .dataframe tbody tr th {\n",
       "        vertical-align: top;\n",
       "    }\n",
       "\n",
       "    .dataframe thead th {\n",
       "        text-align: right;\n",
       "    }\n",
       "</style>\n",
       "<table border=\"1\" class=\"dataframe\">\n",
       "  <thead>\n",
       "    <tr style=\"text-align: right;\">\n",
       "      <th></th>\n",
       "      <th>NAME</th>\n",
       "      <th>AGE</th>\n",
       "      <th>NOTE</th>\n",
       "      <th>NEW_FEATURE</th>\n",
       "      <th>BOOL</th>\n",
       "      <th>MEAN</th>\n",
       "    </tr>\n",
       "  </thead>\n",
       "  <tbody>\n",
       "    <tr>\n",
       "      <th>0</th>\n",
       "      <td>jhon</td>\n",
       "      <td>20.0</td>\n",
       "      <td>125.0</td>\n",
       "      <td>1</td>\n",
       "      <td>True</td>\n",
       "      <td>bad</td>\n",
       "    </tr>\n",
       "    <tr>\n",
       "      <th>1</th>\n",
       "      <td>sara</td>\n",
       "      <td>18.0</td>\n",
       "      <td>665.0</td>\n",
       "      <td>2</td>\n",
       "      <td>True</td>\n",
       "      <td>good</td>\n",
       "    </tr>\n",
       "    <tr>\n",
       "      <th>3</th>\n",
       "      <td>ahmet</td>\n",
       "      <td>50.0</td>\n",
       "      <td>988.0</td>\n",
       "      <td>4</td>\n",
       "      <td>True</td>\n",
       "      <td>good</td>\n",
       "    </tr>\n",
       "    <tr>\n",
       "      <th>4</th>\n",
       "      <td>kubra</td>\n",
       "      <td>25.0</td>\n",
       "      <td>409.0</td>\n",
       "      <td>5</td>\n",
       "      <td>True</td>\n",
       "      <td>bad</td>\n",
       "    </tr>\n",
       "  </tbody>\n",
       "</table>\n",
       "</div>"
      ],
      "text/plain": [
       "    NAME   AGE   NOTE  NEW_FEATURE  BOOL  MEAN\n",
       "0   jhon  20.0  125.0            1  True   bad\n",
       "1   sara  18.0  665.0            2  True  good\n",
       "3  ahmet  50.0  988.0            4  True  good\n",
       "4  kubra  25.0  409.0            5  True   bad"
      ]
     },
     "execution_count": 58,
     "metadata": {},
     "output_type": "execute_result"
    }
   ],
   "source": [
    "dataframe1.drop([\"NEW_FUTURE\"],axis=1,inplace=True)\n",
    "dataframe1"
   ]
  },
  {
   "cell_type": "code",
   "execution_count": 59,
   "id": "b3e9ae48-ccc7-40d9-931a-acdfa8efdded",
   "metadata": {},
   "outputs": [
    {
     "data": {
      "text/html": [
       "<div>\n",
       "<style scoped>\n",
       "    .dataframe tbody tr th:only-of-type {\n",
       "        vertical-align: middle;\n",
       "    }\n",
       "\n",
       "    .dataframe tbody tr th {\n",
       "        vertical-align: top;\n",
       "    }\n",
       "\n",
       "    .dataframe thead th {\n",
       "        text-align: right;\n",
       "    }\n",
       "</style>\n",
       "<table border=\"1\" class=\"dataframe\">\n",
       "  <thead>\n",
       "    <tr style=\"text-align: right;\">\n",
       "      <th></th>\n",
       "      <th>NAME</th>\n",
       "      <th>AGE</th>\n",
       "      <th>NOTE</th>\n",
       "      <th>NEW_FEATURE</th>\n",
       "      <th>BOOL</th>\n",
       "      <th>MEAN</th>\n",
       "    </tr>\n",
       "  </thead>\n",
       "  <tbody>\n",
       "    <tr>\n",
       "      <th>0</th>\n",
       "      <td>jhon</td>\n",
       "      <td>20.0</td>\n",
       "      <td>125.0</td>\n",
       "      <td>1</td>\n",
       "      <td>True</td>\n",
       "      <td>bad</td>\n",
       "    </tr>\n",
       "    <tr>\n",
       "      <th>1</th>\n",
       "      <td>sara</td>\n",
       "      <td>18.0</td>\n",
       "      <td>665.0</td>\n",
       "      <td>2</td>\n",
       "      <td>True</td>\n",
       "      <td>good</td>\n",
       "    </tr>\n",
       "    <tr>\n",
       "      <th>3</th>\n",
       "      <td>ahmet</td>\n",
       "      <td>50.0</td>\n",
       "      <td>988.0</td>\n",
       "      <td>4</td>\n",
       "      <td>True</td>\n",
       "      <td>good</td>\n",
       "    </tr>\n",
       "    <tr>\n",
       "      <th>4</th>\n",
       "      <td>kubra</td>\n",
       "      <td>25.0</td>\n",
       "      <td>409.0</td>\n",
       "      <td>5</td>\n",
       "      <td>True</td>\n",
       "      <td>bad</td>\n",
       "    </tr>\n",
       "    <tr>\n",
       "      <th>0</th>\n",
       "      <td>jhon</td>\n",
       "      <td>20.0</td>\n",
       "      <td>125.0</td>\n",
       "      <td>1</td>\n",
       "      <td>True</td>\n",
       "      <td>bad</td>\n",
       "    </tr>\n",
       "    <tr>\n",
       "      <th>1</th>\n",
       "      <td>sara</td>\n",
       "      <td>18.0</td>\n",
       "      <td>665.0</td>\n",
       "      <td>2</td>\n",
       "      <td>True</td>\n",
       "      <td>good</td>\n",
       "    </tr>\n",
       "    <tr>\n",
       "      <th>3</th>\n",
       "      <td>ahmet</td>\n",
       "      <td>50.0</td>\n",
       "      <td>988.0</td>\n",
       "      <td>4</td>\n",
       "      <td>True</td>\n",
       "      <td>good</td>\n",
       "    </tr>\n",
       "    <tr>\n",
       "      <th>4</th>\n",
       "      <td>kubra</td>\n",
       "      <td>25.0</td>\n",
       "      <td>409.0</td>\n",
       "      <td>5</td>\n",
       "      <td>True</td>\n",
       "      <td>bad</td>\n",
       "    </tr>\n",
       "  </tbody>\n",
       "</table>\n",
       "</div>"
      ],
      "text/plain": [
       "    NAME   AGE   NOTE  NEW_FEATURE  BOOL  MEAN\n",
       "0   jhon  20.0  125.0            1  True   bad\n",
       "1   sara  18.0  665.0            2  True  good\n",
       "3  ahmet  50.0  988.0            4  True  good\n",
       "4  kubra  25.0  409.0            5  True   bad\n",
       "0   jhon  20.0  125.0            1  True   bad\n",
       "1   sara  18.0  665.0            2  True  good\n",
       "3  ahmet  50.0  988.0            4  True  good\n",
       "4  kubra  25.0  409.0            5  True   bad"
      ]
     },
     "execution_count": 59,
     "metadata": {},
     "output_type": "execute_result"
    }
   ],
   "source": [
    "data1 = dataframe1.head()     \n",
    "data2 = dataframe1.tail()\n",
    "data_concat = pd.concat([data1,data2],axis=0)\n",
    "data_concat"
   ]
  },
  {
   "cell_type": "code",
   "execution_count": 60,
   "id": "4e262dae-d915-4bbd-ab65-acdf518db900",
   "metadata": {},
   "outputs": [
    {
     "data": {
      "text/html": [
       "<div>\n",
       "<style scoped>\n",
       "    .dataframe tbody tr th:only-of-type {\n",
       "        vertical-align: middle;\n",
       "    }\n",
       "\n",
       "    .dataframe tbody tr th {\n",
       "        vertical-align: top;\n",
       "    }\n",
       "\n",
       "    .dataframe thead th {\n",
       "        text-align: right;\n",
       "    }\n",
       "</style>\n",
       "<table border=\"1\" class=\"dataframe\">\n",
       "  <thead>\n",
       "    <tr style=\"text-align: right;\">\n",
       "      <th></th>\n",
       "      <th>NAME</th>\n",
       "      <th>AGE</th>\n",
       "      <th>NOTE</th>\n",
       "      <th>NEW_FEATURE</th>\n",
       "      <th>BOOL</th>\n",
       "      <th>MEAN</th>\n",
       "      <th>NAME</th>\n",
       "      <th>AGE</th>\n",
       "      <th>NOTE</th>\n",
       "      <th>NEW_FEATURE</th>\n",
       "      <th>BOOL</th>\n",
       "      <th>MEAN</th>\n",
       "    </tr>\n",
       "  </thead>\n",
       "  <tbody>\n",
       "    <tr>\n",
       "      <th>0</th>\n",
       "      <td>jhon</td>\n",
       "      <td>20.0</td>\n",
       "      <td>125.0</td>\n",
       "      <td>1</td>\n",
       "      <td>True</td>\n",
       "      <td>bad</td>\n",
       "      <td>jhon</td>\n",
       "      <td>20.0</td>\n",
       "      <td>125.0</td>\n",
       "      <td>1</td>\n",
       "      <td>True</td>\n",
       "      <td>bad</td>\n",
       "    </tr>\n",
       "    <tr>\n",
       "      <th>1</th>\n",
       "      <td>sara</td>\n",
       "      <td>18.0</td>\n",
       "      <td>665.0</td>\n",
       "      <td>2</td>\n",
       "      <td>True</td>\n",
       "      <td>good</td>\n",
       "      <td>sara</td>\n",
       "      <td>18.0</td>\n",
       "      <td>665.0</td>\n",
       "      <td>2</td>\n",
       "      <td>True</td>\n",
       "      <td>good</td>\n",
       "    </tr>\n",
       "    <tr>\n",
       "      <th>3</th>\n",
       "      <td>ahmet</td>\n",
       "      <td>50.0</td>\n",
       "      <td>988.0</td>\n",
       "      <td>4</td>\n",
       "      <td>True</td>\n",
       "      <td>good</td>\n",
       "      <td>ahmet</td>\n",
       "      <td>50.0</td>\n",
       "      <td>988.0</td>\n",
       "      <td>4</td>\n",
       "      <td>True</td>\n",
       "      <td>good</td>\n",
       "    </tr>\n",
       "    <tr>\n",
       "      <th>4</th>\n",
       "      <td>kubra</td>\n",
       "      <td>25.0</td>\n",
       "      <td>409.0</td>\n",
       "      <td>5</td>\n",
       "      <td>True</td>\n",
       "      <td>bad</td>\n",
       "      <td>kubra</td>\n",
       "      <td>25.0</td>\n",
       "      <td>409.0</td>\n",
       "      <td>5</td>\n",
       "      <td>True</td>\n",
       "      <td>bad</td>\n",
       "    </tr>\n",
       "  </tbody>\n",
       "</table>\n",
       "</div>"
      ],
      "text/plain": [
       "    NAME   AGE   NOTE  NEW_FEATURE  BOOL  MEAN   NAME   AGE   NOTE  \\\n",
       "0   jhon  20.0  125.0            1  True   bad   jhon  20.0  125.0   \n",
       "1   sara  18.0  665.0            2  True  good   sara  18.0  665.0   \n",
       "3  ahmet  50.0  988.0            4  True  good  ahmet  50.0  988.0   \n",
       "4  kubra  25.0  409.0            5  True   bad  kubra  25.0  409.0   \n",
       "\n",
       "   NEW_FEATURE  BOOL  MEAN  \n",
       "0            1  True   bad  \n",
       "1            2  True  good  \n",
       "3            4  True  good  \n",
       "4            5  True   bad  "
      ]
     },
     "execution_count": 60,
     "metadata": {},
     "output_type": "execute_result"
    }
   ],
   "source": [
    "data_contact2 = pd.concat([data1,data2],axis=1)\n",
    "data_contact2"
   ]
  },
  {
   "cell_type": "code",
   "execution_count": 61,
   "id": "7c05db54-4728-4ee6-9d54-e6d56c46d54f",
   "metadata": {},
   "outputs": [
    {
     "data": {
      "text/html": [
       "<div>\n",
       "<style scoped>\n",
       "    .dataframe tbody tr th:only-of-type {\n",
       "        vertical-align: middle;\n",
       "    }\n",
       "\n",
       "    .dataframe tbody tr th {\n",
       "        vertical-align: top;\n",
       "    }\n",
       "\n",
       "    .dataframe thead th {\n",
       "        text-align: right;\n",
       "    }\n",
       "</style>\n",
       "<table border=\"1\" class=\"dataframe\">\n",
       "  <thead>\n",
       "    <tr style=\"text-align: right;\">\n",
       "      <th></th>\n",
       "      <th>NAME</th>\n",
       "      <th>AGE</th>\n",
       "      <th>NOTE</th>\n",
       "      <th>NEW_FEATURE</th>\n",
       "      <th>BOOL</th>\n",
       "      <th>MEAN</th>\n",
       "      <th>new_age</th>\n",
       "    </tr>\n",
       "  </thead>\n",
       "  <tbody>\n",
       "    <tr>\n",
       "      <th>0</th>\n",
       "      <td>jhon</td>\n",
       "      <td>20.0</td>\n",
       "      <td>125.0</td>\n",
       "      <td>1</td>\n",
       "      <td>True</td>\n",
       "      <td>bad</td>\n",
       "      <td>40.0</td>\n",
       "    </tr>\n",
       "    <tr>\n",
       "      <th>1</th>\n",
       "      <td>sara</td>\n",
       "      <td>18.0</td>\n",
       "      <td>665.0</td>\n",
       "      <td>2</td>\n",
       "      <td>True</td>\n",
       "      <td>good</td>\n",
       "      <td>36.0</td>\n",
       "    </tr>\n",
       "    <tr>\n",
       "      <th>3</th>\n",
       "      <td>ahmet</td>\n",
       "      <td>50.0</td>\n",
       "      <td>988.0</td>\n",
       "      <td>4</td>\n",
       "      <td>True</td>\n",
       "      <td>good</td>\n",
       "      <td>100.0</td>\n",
       "    </tr>\n",
       "    <tr>\n",
       "      <th>4</th>\n",
       "      <td>kubra</td>\n",
       "      <td>25.0</td>\n",
       "      <td>409.0</td>\n",
       "      <td>5</td>\n",
       "      <td>True</td>\n",
       "      <td>bad</td>\n",
       "      <td>50.0</td>\n",
       "    </tr>\n",
       "  </tbody>\n",
       "</table>\n",
       "</div>"
      ],
      "text/plain": [
       "    NAME   AGE   NOTE  NEW_FEATURE  BOOL  MEAN  new_age\n",
       "0   jhon  20.0  125.0            1  True   bad     40.0\n",
       "1   sara  18.0  665.0            2  True  good     36.0\n",
       "3  ahmet  50.0  988.0            4  True  good    100.0\n",
       "4  kubra  25.0  409.0            5  True   bad     50.0"
      ]
     },
     "execution_count": 61,
     "metadata": {},
     "output_type": "execute_result"
    }
   ],
   "source": [
    "dataframe1[\"new_age\"] = [each*2 for each in dataframe1.AGE]\n",
    "dataframe1"
   ]
  },
  {
   "cell_type": "code",
   "execution_count": null,
   "id": "394fb02e-8f9b-4aa5-ab26-2d729f39fe0b",
   "metadata": {},
   "outputs": [],
   "source": []
  }
 ],
 "metadata": {
  "kernelspec": {
   "display_name": "Python 3 (ipykernel)",
   "language": "python",
   "name": "python3"
  },
  "language_info": {
   "codemirror_mode": {
    "name": "ipython",
    "version": 3
   },
   "file_extension": ".py",
   "mimetype": "text/x-python",
   "name": "python",
   "nbconvert_exporter": "python",
   "pygments_lexer": "ipython3",
   "version": "3.11.7"
  }
 },
 "nbformat": 4,
 "nbformat_minor": 5
}
